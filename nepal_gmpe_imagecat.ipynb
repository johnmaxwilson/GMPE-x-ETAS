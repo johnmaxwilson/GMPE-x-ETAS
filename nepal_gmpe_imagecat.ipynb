{
 "cells": [
  {
   "cell_type": "code",
   "execution_count": 1,
   "metadata": {
    "collapsed": false
   },
   "outputs": [],
   "source": [
    "%load_ext autoreload\n",
    "%autoreload 2\n",
    "#\n",
    "%matplotlib inline"
   ]
  },
  {
   "cell_type": "code",
   "execution_count": 2,
   "metadata": {
    "collapsed": false
   },
   "outputs": [
    {
     "name": "stdout",
     "output_type": "stream",
     "text": [
      "exporting to: /home/myoder/Dropbox/Research/GMPE/nepal/nepal_gmpe_20150507.xyz\n"
     ]
    }
   ],
   "source": [
    "import etas_to_gmp\n",
    "import os\n",
    "#\n",
    "etas_src  = 'etas_src/nepal_etas_20150507.xyz'\n",
    "fname = os.path.split(etas_src)[-1]\n",
    "fname = fname.replace('_etas_', '_gmpe_')\n",
    "#\n",
    "fout_name = os.path.join(os.getenv('HOME'), 'Dropbox/Research/GMPE/nepal/', fname)\n",
    "print('exporting to: {}'.format(fout_name))\n",
    "#"
   ]
  },
  {
   "cell_type": "code",
   "execution_count": null,
   "metadata": {
    "collapsed": false
   },
   "outputs": [
    {
     "name": "stdout",
     "output_type": "stream",
     "text": [
      "exporting data to: /home/myoder/Dropbox/Research/GMPE/nepal/nepal_gmpe_20150507.xyz\n",
      "open etas_src file:  etas_src/nepal_etas_20150507.xyz\n",
      "len(X) = 100\n",
      "len(Y) = 100\n",
      "Total size = 10000\n",
      "ETAS_array, size: 10000, shape: (10000,)/(100, 100)\n",
      "shapes:  (100,) (100,) (100, 100) 10000\n",
      "GMP_size: (100, 100)/(100, 100)\n",
      "data handle fetched...\n",
      " no file.\n"
     ]
    }
   ],
   "source": [
    "etas_size = (50,50)\n",
    "gmp_size  = (50,50)\n",
    "\n",
    "etas_size = None\n",
    "gmp_size  = None\n",
    "aa = etas_to_gmp.etas_to_GM(etas_src=etas_src, fname_out=fout_name, etas_size=etas_size, gmp_size=gmp_size,\n",
    "                            fignum=0, verbose=True)\n"
   ]
  },
  {
   "cell_type": "code",
   "execution_count": 4,
   "metadata": {
    "collapsed": false
   },
   "outputs": [
    {
     "data": {
      "text/plain": [
       "rec.array([(79.698, 23.175, 4.815226180711573e-09),\n",
       " (79.90004081632651, 23.175, 3.353648639368829e-08),\n",
       " (80.10208163265303, 23.175, 2.254520498408736e-07),\n",
       " (80.30412244897956, 23.175, 1.4367933735265463e-06),\n",
       " (80.50616326530607, 23.175, 8.39658798348329e-06)], \n",
       "          dtype=[('x', '>f8'), ('y', '>f8'), ('z', '>f8')])"
      ]
     },
     "execution_count": 4,
     "metadata": {},
     "output_type": "execute_result"
    }
   ],
   "source": [
    "aa[0:5]\n"
   ]
  },
  {
   "cell_type": "code",
   "execution_count": null,
   "metadata": {
    "collapsed": true
   },
   "outputs": [],
   "source": []
  }
 ],
 "metadata": {
  "kernelspec": {
   "display_name": "Python 3",
   "language": "python",
   "name": "python3"
  },
  "language_info": {
   "codemirror_mode": {
    "name": "ipython",
    "version": 3
   },
   "file_extension": ".py",
   "mimetype": "text/x-python",
   "name": "python",
   "nbconvert_exporter": "python",
   "pygments_lexer": "ipython3",
   "version": "3.5.1"
  }
 },
 "nbformat": 4,
 "nbformat_minor": 0
}
