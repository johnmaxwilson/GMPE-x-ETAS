{
 "cells": [
  {
   "cell_type": "markdown",
   "metadata": {},
   "source": [
    "##ETAS to magnitude: A self-similar model\n",
    "\n",
    "Invert the self-similar ETAS model to assign characteristic magnitude $m$ to each ETAS rate-density cell. \n",
    "\n",
    "First, the model. The temporal rate, for an entire earthquake is:\n",
    "\n",
    "\\begin{equation}\n",
    "\\dot{N} = \\frac{1}{\\tau \\left(t_0 + t \\right)^p} , \n",
    "\\end{equation}\n",
    "\n",
    "and of the spatial-linear density is,\n",
    "\n",
    "\\begin{equation}\n",
    "N' = \\frac{1}{\\chi \\left(r_0 + r \\right)^q} .\n",
    "\\end{equation}\n",
    "\n",
    "The spatial areal density, then, is (approximately)\n",
    "\n",
    "\\begin{equation}\n",
    "N'' = \\sigma = \\frac{N'}{2 \\pi r_0}\n",
    "\\end{equation}\n",
    "\n",
    "Now, assume the general form, allowing for some normalization constants, \n",
    "\n",
    "\\begin{equation}\n",
    "\\int{\\dot{n}n'' dt dr d\\theta} = N_{GR}.\n",
    "\\end{equation}\n",
    "\n",
    "We can write this a lot of different ways. The main point is that if we integrate the rate-density over time and area, we get the GR number, $N_{GR}$, and note that the radial integration is straight forward -- multiplying or dividing by $2 \\pi r$, or $r \\to r' = r+r_0$ (or something like that), and we might also consider an elliptical path length instead of a circle.\n",
    "\n",
    "Just to get a handle on all of this, and recognize that the angular integration is simple, write it like:\n",
    "\n",
    "\\begin{equation}\n",
    "\\int{\\dot{n} n' dt dr} = N_{GR} = N_{GR} \\int \\frac{f_\\tau}{N_{\\tau}} \\frac{f\\chi}{N_{\\chi}} dr dt.\n",
    "\\end{equation}\n",
    "\n",
    "Putting this into the context of ETAS,\n",
    "\n",
    "\\begin{equation}\n",
    "\\dot{n}' = z_{etas} \\cdot 2 \\pi (r_0 + r) = \\frac{10^{2(m_c + \\Delta m - m)}}{ \\tau \\chi (t_0 + t)^p (r_0 +r)^q} ,\n",
    "\\end{equation}\n",
    "\n",
    "and we model each lattice site as being a source at $r=0$ and $t=0$, so\n",
    "\n",
    "\\begin{equation}\n",
    "z_{etas} = \\frac{10^{2(m_c + \\Delta m - m)}}{ \\tau \\chi \\cdot 2 \\pi t_0^p r_0^{(1+q)}},\n",
    "\\end{equation}\n",
    "\n",
    "\n",
    "\n"
   ]
  },
  {
   "cell_type": "code",
   "execution_count": null,
   "metadata": {
    "collapsed": true
   },
   "outputs": [],
   "source": []
  }
 ],
 "metadata": {
  "kernelspec": {
   "display_name": "Python 3",
   "language": "python",
   "name": "python3"
  },
  "language_info": {
   "codemirror_mode": {
    "name": "ipython",
    "version": 3
   },
   "file_extension": ".py",
   "mimetype": "text/x-python",
   "name": "python",
   "nbconvert_exporter": "python",
   "pygments_lexer": "ipython3",
   "version": "3.5.1"
  }
 },
 "nbformat": 4,
 "nbformat_minor": 0
}
