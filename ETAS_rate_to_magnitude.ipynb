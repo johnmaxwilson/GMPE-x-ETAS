{
 "cells": [
  {
   "cell_type": "raw",
   "metadata": {},
   "source": [
    "Rate to Magnitude.\n",
    "\n",
    "How do we convert ETAS rate to source event magnitude? \n",
    "\n",
    "there are two basic approaches:\n",
    "1) for each cell (or group of cells), compute a source event magnitude based on GR, Omori, Bath statistics. For each cell in the GMPE lattice, calculate the peak accel/velocity, rate/probability of exceedence, etc.\n",
    "2) Choose a (set of) source magnitudes. for each cell in ETAS, calculate the rate of that event. propagage the GM and aggregate the rate of exceedence of some threshold value. note: a threshold value must be chosen in advance.\n"
   ]
  },
  {
   "cell_type": "code",
   "execution_count": null,
   "metadata": {
    "collapsed": true
   },
   "outputs": [],
   "source": [
    "# omori:\n",
    "def omori_rate(t,t0,tau, p):\n",
    "    return 1/(tau*(t0+t)**p)\n",
    "\n",
    "# so the initial rate (assuming we know t0, tau) is:\n",
    "def omoir_initial(tau,t0,p):\n",
    "    return 1./(tau*t0**p)\n",
    "# and equivalently:\n",
    "def tau_init(n_dot0,t0,p):\n",
    "    return 1./(n_dot0*t0**p)\n",
    "\n",
    "# and so, we can describe the rate at time t like:\n",
    "def omori_rate_2(t,n_dot0,t0,p):\n",
    "    return n_dot0*(t0/(t0+t))**p\n",
    "\n",
    "# and so we can integrate:\n",
    "# note: to get definite integrals from these, apply twice (for t2,t1) and subtract.\n",
    "def N_omori(t, n_dot0, t0,p):\n",
    "    return (n_dot0*to**p)*((t0+t)**(1-p))/(p-1)\n",
    "\n",
    "def N_omori_ln(t,n_dot0, t0):\n",
    "    return n_dot0*t0*numpy.log(t0+t)\n",
    "#\n",
    "def N_omori_const(t,n_dot0):\n",
    "    return n_dot0*t\n",
    "    "
   ]
  }
 ],
 "metadata": {
  "kernelspec": {
   "display_name": "Python 3",
   "language": "python",
   "name": "python3"
  },
  "language_info": {
   "codemirror_mode": {
    "name": "ipython",
    "version": 3
   },
   "file_extension": ".py",
   "mimetype": "text/x-python",
   "name": "python",
   "nbconvert_exporter": "python",
   "pygments_lexer": "ipython3",
   "version": "3.5.1"
  }
 },
 "nbformat": 4,
 "nbformat_minor": 0
}
